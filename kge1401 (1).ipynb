{
  "nbformat": 4,
  "nbformat_minor": 0,
  "metadata": {
    "colab": {
      "name": "kge1401.ipynb",
      "provenance": [],
      "collapsed_sections": []
    },
    "kernelspec": {
      "name": "python3",
      "display_name": "Python 3"
    },
    "language_info": {
      "name": "python"
    },
    "accelerator": "GPU"
  },
  "cells": [
    {
      "cell_type": "code",
      "source": [
        "pip uninstall tensorflow"
      ],
      "metadata": {
        "id": "VqtuSTggyfEb",
        "colab": {
          "base_uri": "https://localhost:8080/"
        },
        "outputId": "dc42002e-b570-4b00-f34a-8e86e6b4aeb7"
      },
      "execution_count": 1,
      "outputs": [
        {
          "output_type": "stream",
          "name": "stdout",
          "text": [
            "Found existing installation: tensorflow 2.7.0\n",
            "Uninstalling tensorflow-2.7.0:\n",
            "  Would remove:\n",
            "    /usr/local/bin/estimator_ckpt_converter\n",
            "    /usr/local/bin/import_pb_to_tensorboard\n",
            "    /usr/local/bin/saved_model_cli\n",
            "    /usr/local/bin/tensorboard\n",
            "    /usr/local/bin/tf_upgrade_v2\n",
            "    /usr/local/bin/tflite_convert\n",
            "    /usr/local/bin/toco\n",
            "    /usr/local/bin/toco_from_protos\n",
            "    /usr/local/lib/python3.7/dist-packages/tensorflow-2.7.0.dist-info/*\n",
            "    /usr/local/lib/python3.7/dist-packages/tensorflow/*\n",
            "Proceed (y/n)? y\n",
            "y\n",
            "y\n",
            "y\n",
            "y\n",
            "y\n",
            "y\n",
            "  Successfully uninstalled tensorflow-2.7.0\n"
          ]
        }
      ]
    },
    {
      "cell_type": "code",
      "source": [
        "pip install \"tensorflow>=1.15.2,<2.0\""
      ],
      "metadata": {
        "colab": {
          "base_uri": "https://localhost:8080/",
          "height": 1000
        },
        "id": "64eTaH6To-_E",
        "outputId": "eee0b38f-fd42-4321-8fe9-4bb1847b4643"
      },
      "execution_count": 2,
      "outputs": [
        {
          "output_type": "stream",
          "name": "stdout",
          "text": [
            "Collecting tensorflow<2.0,>=1.15.2\n",
            "  Downloading tensorflow-1.15.5-cp37-cp37m-manylinux2010_x86_64.whl (110.5 MB)\n",
            "\u001b[K     |████████████████████████████████| 110.5 MB 1.2 kB/s \n",
            "\u001b[?25hRequirement already satisfied: protobuf>=3.6.1 in /usr/local/lib/python3.7/dist-packages (from tensorflow<2.0,>=1.15.2) (3.17.3)\n",
            "Collecting tensorflow-estimator==1.15.1\n",
            "  Downloading tensorflow_estimator-1.15.1-py2.py3-none-any.whl (503 kB)\n",
            "\u001b[K     |████████████████████████████████| 503 kB 36.2 MB/s \n",
            "\u001b[?25hRequirement already satisfied: grpcio>=1.8.6 in /usr/local/lib/python3.7/dist-packages (from tensorflow<2.0,>=1.15.2) (1.43.0)\n",
            "Requirement already satisfied: absl-py>=0.7.0 in /usr/local/lib/python3.7/dist-packages (from tensorflow<2.0,>=1.15.2) (1.0.0)\n",
            "Requirement already satisfied: opt-einsum>=2.3.2 in /usr/local/lib/python3.7/dist-packages (from tensorflow<2.0,>=1.15.2) (3.3.0)\n",
            "Requirement already satisfied: wrapt>=1.11.1 in /usr/local/lib/python3.7/dist-packages (from tensorflow<2.0,>=1.15.2) (1.13.3)\n",
            "Collecting numpy<1.19.0,>=1.16.0\n",
            "  Downloading numpy-1.18.5-cp37-cp37m-manylinux1_x86_64.whl (20.1 MB)\n",
            "\u001b[K     |████████████████████████████████| 20.1 MB 6.6 MB/s \n",
            "\u001b[?25hRequirement already satisfied: six>=1.10.0 in /usr/local/lib/python3.7/dist-packages (from tensorflow<2.0,>=1.15.2) (1.15.0)\n",
            "Requirement already satisfied: wheel>=0.26 in /usr/local/lib/python3.7/dist-packages (from tensorflow<2.0,>=1.15.2) (0.37.1)\n",
            "Collecting tensorboard<1.16.0,>=1.15.0\n",
            "  Downloading tensorboard-1.15.0-py3-none-any.whl (3.8 MB)\n",
            "\u001b[K     |████████████████████████████████| 3.8 MB 39.4 MB/s \n",
            "\u001b[?25hRequirement already satisfied: astor>=0.6.0 in /usr/local/lib/python3.7/dist-packages (from tensorflow<2.0,>=1.15.2) (0.8.1)\n",
            "Requirement already satisfied: google-pasta>=0.1.6 in /usr/local/lib/python3.7/dist-packages (from tensorflow<2.0,>=1.15.2) (0.2.0)\n",
            "Requirement already satisfied: keras-preprocessing>=1.0.5 in /usr/local/lib/python3.7/dist-packages (from tensorflow<2.0,>=1.15.2) (1.1.2)\n",
            "Collecting keras-applications>=1.0.8\n",
            "  Downloading Keras_Applications-1.0.8-py3-none-any.whl (50 kB)\n",
            "\u001b[K     |████████████████████████████████| 50 kB 3.7 MB/s \n",
            "\u001b[?25hRequirement already satisfied: termcolor>=1.1.0 in /usr/local/lib/python3.7/dist-packages (from tensorflow<2.0,>=1.15.2) (1.1.0)\n",
            "Collecting h5py<=2.10.0\n",
            "  Downloading h5py-2.10.0-cp37-cp37m-manylinux1_x86_64.whl (2.9 MB)\n",
            "\u001b[K     |████████████████████████████████| 2.9 MB 33.5 MB/s \n",
            "\u001b[?25hCollecting gast==0.2.2\n",
            "  Downloading gast-0.2.2.tar.gz (10 kB)\n",
            "Requirement already satisfied: setuptools>=41.0.0 in /usr/local/lib/python3.7/dist-packages (from tensorboard<1.16.0,>=1.15.0->tensorflow<2.0,>=1.15.2) (57.4.0)\n",
            "Requirement already satisfied: markdown>=2.6.8 in /usr/local/lib/python3.7/dist-packages (from tensorboard<1.16.0,>=1.15.0->tensorflow<2.0,>=1.15.2) (3.3.6)\n",
            "Requirement already satisfied: werkzeug>=0.11.15 in /usr/local/lib/python3.7/dist-packages (from tensorboard<1.16.0,>=1.15.0->tensorflow<2.0,>=1.15.2) (1.0.1)\n",
            "Requirement already satisfied: importlib-metadata>=4.4 in /usr/local/lib/python3.7/dist-packages (from markdown>=2.6.8->tensorboard<1.16.0,>=1.15.0->tensorflow<2.0,>=1.15.2) (4.10.1)\n",
            "Requirement already satisfied: typing-extensions>=3.6.4 in /usr/local/lib/python3.7/dist-packages (from importlib-metadata>=4.4->markdown>=2.6.8->tensorboard<1.16.0,>=1.15.0->tensorflow<2.0,>=1.15.2) (3.10.0.2)\n",
            "Requirement already satisfied: zipp>=0.5 in /usr/local/lib/python3.7/dist-packages (from importlib-metadata>=4.4->markdown>=2.6.8->tensorboard<1.16.0,>=1.15.0->tensorflow<2.0,>=1.15.2) (3.7.0)\n",
            "Building wheels for collected packages: gast\n",
            "  Building wheel for gast (setup.py) ... \u001b[?25l\u001b[?25hdone\n",
            "  Created wheel for gast: filename=gast-0.2.2-py3-none-any.whl size=7554 sha256=8ebb4750ecd66af93a4183243445b0b03542b46b082b9b0d65aa79c94b568ee7\n",
            "  Stored in directory: /root/.cache/pip/wheels/21/7f/02/420f32a803f7d0967b48dd823da3f558c5166991bfd204eef3\n",
            "Successfully built gast\n",
            "Installing collected packages: numpy, h5py, tensorflow-estimator, tensorboard, keras-applications, gast, tensorflow\n",
            "  Attempting uninstall: numpy\n",
            "    Found existing installation: numpy 1.19.5\n",
            "    Uninstalling numpy-1.19.5:\n",
            "      Successfully uninstalled numpy-1.19.5\n",
            "  Attempting uninstall: h5py\n",
            "    Found existing installation: h5py 3.1.0\n",
            "    Uninstalling h5py-3.1.0:\n",
            "      Successfully uninstalled h5py-3.1.0\n",
            "  Attempting uninstall: tensorflow-estimator\n",
            "    Found existing installation: tensorflow-estimator 2.7.0\n",
            "    Uninstalling tensorflow-estimator-2.7.0:\n",
            "      Successfully uninstalled tensorflow-estimator-2.7.0\n",
            "  Attempting uninstall: tensorboard\n",
            "    Found existing installation: tensorboard 2.7.0\n",
            "    Uninstalling tensorboard-2.7.0:\n",
            "      Successfully uninstalled tensorboard-2.7.0\n",
            "  Attempting uninstall: gast\n",
            "    Found existing installation: gast 0.4.0\n",
            "    Uninstalling gast-0.4.0:\n",
            "      Successfully uninstalled gast-0.4.0\n",
            "\u001b[31mERROR: pip's dependency resolver does not currently take into account all the packages that are installed. This behaviour is the source of the following dependency conflicts.\n",
            "tensorflow-probability 0.15.0 requires gast>=0.3.2, but you have gast 0.2.2 which is incompatible.\n",
            "kapre 0.3.7 requires tensorflow>=2.0.0, but you have tensorflow 1.15.5 which is incompatible.\n",
            "datascience 0.10.6 requires folium==0.2.1, but you have folium 0.8.3 which is incompatible.\n",
            "albumentations 0.1.12 requires imgaug<0.2.7,>=0.2.5, but you have imgaug 0.2.9 which is incompatible.\u001b[0m\n",
            "Successfully installed gast-0.2.2 h5py-2.10.0 keras-applications-1.0.8 numpy-1.18.5 tensorboard-1.15.0 tensorflow-1.15.5 tensorflow-estimator-1.15.1\n"
          ]
        },
        {
          "output_type": "display_data",
          "data": {
            "application/vnd.colab-display-data+json": {
              "pip_warning": {
                "packages": [
                  "numpy"
                ]
              }
            }
          },
          "metadata": {}
        }
      ]
    },
    {
      "cell_type": "code",
      "source": [
        "# install AmpliGraph and other dependencies\n",
        "\n",
        "%%capture \n",
        "# Install AmpliGraph library\n",
        "! pip install ampligraph\n",
        "\n",
        "# Required to visualize embeddings with tensorboard projector, comment out if not required!\n",
        "! pip install --user tensorboard\n",
        "\n",
        "# Required to plot text on embedding clusters, comment out if not required!\n",
        "! pip install --user git+https://github.com/Phlya/adjustText"
      ],
      "metadata": {
        "id": "UsLHb6wspDcf"
      },
      "execution_count": 5,
      "outputs": []
    },
    {
      "cell_type": "code",
      "source": [
        "#check if tensorflow is correctly installed \n",
        "import tensorflow as tf \n",
        "print(tf.version.VERSION)"
      ],
      "metadata": {
        "colab": {
          "base_uri": "https://localhost:8080/"
        },
        "id": "czq7l978pAkF",
        "outputId": "913360e2-6637-41ce-9b3c-fe9456acd3e6"
      },
      "execution_count": 6,
      "outputs": [
        {
          "output_type": "stream",
          "name": "stdout",
          "text": [
            "1.15.5\n"
          ]
        }
      ]
    },
    {
      "cell_type": "code",
      "source": [
        "# All imports used in this notebook\n",
        "%tensorflow_version 1.x\n",
        "import ampligraph\n",
        "import numpy as np\n",
        "import pandas as pd\n",
        "import tensorflow as tf\n",
        "#from ampligraph.datasets import load_fb15k_237\n",
        "from ampligraph.evaluation import train_test_split_no_unseen, evaluate_performance, mr_score, mrr_score, hits_at_n_score\n",
        "from ampligraph.discovery import query_topn, discover_facts, find_clusters\n",
        "from ampligraph.latent_features import TransE #ComplEx, HolE, DistMult, ConvE, ConvKB\n",
        "#from ampligraph.utils import save_model, restore_model\n",
        "\n",
        "'''def display_aggregate_metrics(ranks):\n",
        "    print('Mean Rank:', mr_score(ranks)) \n",
        "    print('Mean Reciprocal Rank:', mrr_score(ranks)) \n",
        "    print('Hits@1:', hits_at_n_score(ranks, 1))\n",
        "    print('Hits@10:', hits_at_n_score(ranks, 10))\n",
        "    print('Hits@100:', hits_at_n_score(ranks, 100))\n",
        "\n",
        "print('Ampligraph version: {}'.format(ampligraph.__version__))'''"
      ],
      "metadata": {
        "colab": {
          "base_uri": "https://localhost:8080/",
          "height": 87
        },
        "id": "VTpP-Kg1pFbo",
        "outputId": "944c77f0-87aa-4b0f-dc7f-917875ccbeb8"
      },
      "execution_count": 7,
      "outputs": [
        {
          "output_type": "stream",
          "name": "stdout",
          "text": [
            "TensorFlow is already loaded. Please restart the runtime to change versions.\n"
          ]
        },
        {
          "output_type": "execute_result",
          "data": {
            "application/vnd.google.colaboratory.intrinsic+json": {
              "type": "string"
            },
            "text/plain": [
              "\"def display_aggregate_metrics(ranks):\\n    print('Mean Rank:', mr_score(ranks)) \\n    print('Mean Reciprocal Rank:', mrr_score(ranks)) \\n    print('Hits@1:', hits_at_n_score(ranks, 1))\\n    print('Hits@10:', hits_at_n_score(ranks, 10))\\n    print('Hits@100:', hits_at_n_score(ranks, 100))\\n\\nprint('Ampligraph version: {}'.format(ampligraph.__version__))\""
            ]
          },
          "metadata": {},
          "execution_count": 7
        }
      ]
    },
    {
      "cell_type": "code",
      "source": [
        "import pandas as pd\n",
        "from ampligraph.datasets import load_from_csv\n",
        "\n",
        "true = load_from_csv('.', '/content/drive/MyDrive/results15.csv', sep=',') \n",
        "false = load_from_csv('.', '/content/drive/MyDrive/resultsf15.csv', sep = ',')\n",
        "\n",
        "df_true = pd.DataFrame(true, columns = ['id', 'text', 'ratingName', 'author',  'headline', 'named_entities_claim', 'named_entities_article', 'keywords', 'source', 'sourceURL', 'link', 'language'])\n",
        "df_false = pd.DataFrame(false, columns = ['id', 'text', 'ratingName', 'author', 'headline', 'named_entities_claim', 'named_entities_article', 'keywords', 'source', 'sourceURL', 'link', 'language'])\n",
        "\n",
        "df_true['label'] = 0\n",
        "df_false['label'] = 1\n",
        "\n",
        "data = pd.concat([df_false, df_true])\n",
        "# shuffle the dataset\n",
        "data = data.sample(frac=1)\n",
        "\n",
        "data.head()"
      ],
      "metadata": {
        "colab": {
          "base_uri": "https://localhost:8080/",
          "height": 773
        },
        "id": "tX6N2VvH1IWD",
        "outputId": "c6872a1a-e315-492a-b58d-aff083de5568"
      },
      "execution_count": 8,
      "outputs": [
        {
          "output_type": "execute_result",
          "data": {
            "text/html": [
              "\n",
              "  <div id=\"df-9c117c1b-236a-4b1f-9a21-bbcba1d38c19\">\n",
              "    <div class=\"colab-df-container\">\n",
              "      <div>\n",
              "<style scoped>\n",
              "    .dataframe tbody tr th:only-of-type {\n",
              "        vertical-align: middle;\n",
              "    }\n",
              "\n",
              "    .dataframe tbody tr th {\n",
              "        vertical-align: top;\n",
              "    }\n",
              "\n",
              "    .dataframe thead th {\n",
              "        text-align: right;\n",
              "    }\n",
              "</style>\n",
              "<table border=\"1\" class=\"dataframe\">\n",
              "  <thead>\n",
              "    <tr style=\"text-align: right;\">\n",
              "      <th></th>\n",
              "      <th>id</th>\n",
              "      <th>text</th>\n",
              "      <th>ratingName</th>\n",
              "      <th>author</th>\n",
              "      <th>headline</th>\n",
              "      <th>named_entities_claim</th>\n",
              "      <th>named_entities_article</th>\n",
              "      <th>keywords</th>\n",
              "      <th>source</th>\n",
              "      <th>sourceURL</th>\n",
              "      <th>link</th>\n",
              "      <th>language</th>\n",
              "      <th>label</th>\n",
              "    </tr>\n",
              "  </thead>\n",
              "  <tbody>\n",
              "    <tr>\n",
              "      <th>9285</th>\n",
              "      <td>http://data.gesis.org/claimskg/claim_review/fa...</td>\n",
              "      <td>Essay by retired Air Force general analyzes th...</td>\n",
              "      <td>FALSE</td>\n",
              "      <td>Unknown</td>\n",
              "      <td>General Chong Letter</td>\n",
              "      <td>e-mail forwarding,the chain,war on terrorism</td>\n",
              "      <td>war on terrorism</td>\n",
              "      <td>ASP Article</td>\n",
              "      <td>snopes</td>\n",
              "      <td>http://www.snopes.com</td>\n",
              "      <td>https://www.snopes.com/fact-check/the-war-is-f...</td>\n",
              "      <td>English</td>\n",
              "      <td>1</td>\n",
              "    </tr>\n",
              "    <tr>\n",
              "      <th>1777</th>\n",
              "      <td>http://data.gesis.org/claimskg/claim_review/81...</td>\n",
              "      <td>The month of August will include five Saturday...</td>\n",
              "      <td>FALSE</td>\n",
              "      <td>Unknown</td>\n",
              "      <td>‘Money Bags’ Calendar</td>\n",
              "      <td>feng shui,money bag</td>\n",
              "      <td>NaN</td>\n",
              "      <td>Trivia</td>\n",
              "      <td>snopes</td>\n",
              "      <td>http://www.snopes.com</td>\n",
              "      <td>https://www.snopes.com/fact-check/money-bags/</td>\n",
              "      <td>English</td>\n",
              "      <td>1</td>\n",
              "    </tr>\n",
              "    <tr>\n",
              "      <th>8655</th>\n",
              "      <td>http://data.gesis.org/claimskg/claim_review/2c...</td>\n",
              "      <td>Oregon State Leaves Donald Trump off Ballots</td>\n",
              "      <td>FALSE</td>\n",
              "      <td>Unknown</td>\n",
              "      <td>Oregon State Leaves Donald Trump off Ballots-F...</td>\n",
              "      <td>2016 presidential election,Donald Trump,Facebo...</td>\n",
              "      <td>Donald Trump,Oregon</td>\n",
              "      <td>NaN</td>\n",
              "      <td>truthorfiction</td>\n",
              "      <td>https://www.truthorfiction.com</td>\n",
              "      <td>https://www.truthorfiction.com/oregon-state-le...</td>\n",
              "      <td>English</td>\n",
              "      <td>1</td>\n",
              "    </tr>\n",
              "    <tr>\n",
              "      <th>5988</th>\n",
              "      <td>http://data.gesis.org/claimskg/claim_review/2b...</td>\n",
              "      <td>'The music industry is the biggest export from...</td>\n",
              "      <td>FALSE</td>\n",
              "      <td>D’Banj</td>\n",
              "      <td>Africa's 'Bono' claims that music is one of Af...</td>\n",
              "      <td>Afrobeat,Akon,Azonto,Bollywood,Center for Stra...</td>\n",
              "      <td>NaN</td>\n",
              "      <td>Ebola,Economy,Foreign Policy,Pop Culture</td>\n",
              "      <td>politifact</td>\n",
              "      <td>http://www.politifact.com</td>\n",
              "      <td>http://www.politifact.com/punditfact/statement...</td>\n",
              "      <td>English</td>\n",
              "      <td>1</td>\n",
              "    </tr>\n",
              "    <tr>\n",
              "      <th>3334</th>\n",
              "      <td>http://data.gesis.org/claimskg/claim_review/d2...</td>\n",
              "      <td>The Red Cross provided supplies to marchers in...</td>\n",
              "      <td>TRUE</td>\n",
              "      <td>Unknown</td>\n",
              "      <td>Red Cross Supplies Jena Marchers</td>\n",
              "      <td>American Red Cross,Detroit Free Press,Dr. Mart...</td>\n",
              "      <td>Jena, Louisiana</td>\n",
              "      <td>ASP Article</td>\n",
              "      <td>snopes</td>\n",
              "      <td>http://www.snopes.com</td>\n",
              "      <td>https://www.snopes.com/fact-check/jena-side/</td>\n",
              "      <td>English</td>\n",
              "      <td>0</td>\n",
              "    </tr>\n",
              "  </tbody>\n",
              "</table>\n",
              "</div>\n",
              "      <button class=\"colab-df-convert\" onclick=\"convertToInteractive('df-9c117c1b-236a-4b1f-9a21-bbcba1d38c19')\"\n",
              "              title=\"Convert this dataframe to an interactive table.\"\n",
              "              style=\"display:none;\">\n",
              "        \n",
              "  <svg xmlns=\"http://www.w3.org/2000/svg\" height=\"24px\"viewBox=\"0 0 24 24\"\n",
              "       width=\"24px\">\n",
              "    <path d=\"M0 0h24v24H0V0z\" fill=\"none\"/>\n",
              "    <path d=\"M18.56 5.44l.94 2.06.94-2.06 2.06-.94-2.06-.94-.94-2.06-.94 2.06-2.06.94zm-11 1L8.5 8.5l.94-2.06 2.06-.94-2.06-.94L8.5 2.5l-.94 2.06-2.06.94zm10 10l.94 2.06.94-2.06 2.06-.94-2.06-.94-.94-2.06-.94 2.06-2.06.94z\"/><path d=\"M17.41 7.96l-1.37-1.37c-.4-.4-.92-.59-1.43-.59-.52 0-1.04.2-1.43.59L10.3 9.45l-7.72 7.72c-.78.78-.78 2.05 0 2.83L4 21.41c.39.39.9.59 1.41.59.51 0 1.02-.2 1.41-.59l7.78-7.78 2.81-2.81c.8-.78.8-2.07 0-2.86zM5.41 20L4 18.59l7.72-7.72 1.47 1.35L5.41 20z\"/>\n",
              "  </svg>\n",
              "      </button>\n",
              "      \n",
              "  <style>\n",
              "    .colab-df-container {\n",
              "      display:flex;\n",
              "      flex-wrap:wrap;\n",
              "      gap: 12px;\n",
              "    }\n",
              "\n",
              "    .colab-df-convert {\n",
              "      background-color: #E8F0FE;\n",
              "      border: none;\n",
              "      border-radius: 50%;\n",
              "      cursor: pointer;\n",
              "      display: none;\n",
              "      fill: #1967D2;\n",
              "      height: 32px;\n",
              "      padding: 0 0 0 0;\n",
              "      width: 32px;\n",
              "    }\n",
              "\n",
              "    .colab-df-convert:hover {\n",
              "      background-color: #E2EBFA;\n",
              "      box-shadow: 0px 1px 2px rgba(60, 64, 67, 0.3), 0px 1px 3px 1px rgba(60, 64, 67, 0.15);\n",
              "      fill: #174EA6;\n",
              "    }\n",
              "\n",
              "    [theme=dark] .colab-df-convert {\n",
              "      background-color: #3B4455;\n",
              "      fill: #D2E3FC;\n",
              "    }\n",
              "\n",
              "    [theme=dark] .colab-df-convert:hover {\n",
              "      background-color: #434B5C;\n",
              "      box-shadow: 0px 1px 3px 1px rgba(0, 0, 0, 0.15);\n",
              "      filter: drop-shadow(0px 1px 2px rgba(0, 0, 0, 0.3));\n",
              "      fill: #FFFFFF;\n",
              "    }\n",
              "  </style>\n",
              "\n",
              "      <script>\n",
              "        const buttonEl =\n",
              "          document.querySelector('#df-9c117c1b-236a-4b1f-9a21-bbcba1d38c19 button.colab-df-convert');\n",
              "        buttonEl.style.display =\n",
              "          google.colab.kernel.accessAllowed ? 'block' : 'none';\n",
              "\n",
              "        async function convertToInteractive(key) {\n",
              "          const element = document.querySelector('#df-9c117c1b-236a-4b1f-9a21-bbcba1d38c19');\n",
              "          const dataTable =\n",
              "            await google.colab.kernel.invokeFunction('convertToInteractive',\n",
              "                                                     [key], {});\n",
              "          if (!dataTable) return;\n",
              "\n",
              "          const docLinkHtml = 'Like what you see? Visit the ' +\n",
              "            '<a target=\"_blank\" href=https://colab.research.google.com/notebooks/data_table.ipynb>data table notebook</a>'\n",
              "            + ' to learn more about interactive tables.';\n",
              "          element.innerHTML = '';\n",
              "          dataTable['output_type'] = 'display_data';\n",
              "          await google.colab.output.renderOutput(dataTable, element);\n",
              "          const docLink = document.createElement('div');\n",
              "          docLink.innerHTML = docLinkHtml;\n",
              "          element.appendChild(docLink);\n",
              "        }\n",
              "      </script>\n",
              "    </div>\n",
              "  </div>\n",
              "  "
            ],
            "text/plain": [
              "                                                     id  ... label\n",
              "9285  http://data.gesis.org/claimskg/claim_review/fa...  ...     1\n",
              "1777  http://data.gesis.org/claimskg/claim_review/81...  ...     1\n",
              "8655  http://data.gesis.org/claimskg/claim_review/2c...  ...     1\n",
              "5988  http://data.gesis.org/claimskg/claim_review/2b...  ...     1\n",
              "3334  http://data.gesis.org/claimskg/claim_review/d2...  ...     0\n",
              "\n",
              "[5 rows x 13 columns]"
            ]
          },
          "metadata": {},
          "execution_count": 8
        }
      ]
    },
    {
      "cell_type": "code",
      "source": [
        "data = data.drop(columns= 'ratingName')\n",
        "data = data.drop(columns= 'sourceURL')\n",
        "data = data.drop(columns = 'link')\n",
        "data.head()"
      ],
      "metadata": {
        "colab": {
          "base_uri": "https://localhost:8080/",
          "height": 773
        },
        "id": "UrvqdXc2b2tX",
        "outputId": "d1b0b1ca-0248-4b38-a575-ff86abcd9eba"
      },
      "execution_count": 9,
      "outputs": [
        {
          "output_type": "execute_result",
          "data": {
            "text/html": [
              "\n",
              "  <div id=\"df-43b9ab58-7249-4d61-b367-47dbf9c9933f\">\n",
              "    <div class=\"colab-df-container\">\n",
              "      <div>\n",
              "<style scoped>\n",
              "    .dataframe tbody tr th:only-of-type {\n",
              "        vertical-align: middle;\n",
              "    }\n",
              "\n",
              "    .dataframe tbody tr th {\n",
              "        vertical-align: top;\n",
              "    }\n",
              "\n",
              "    .dataframe thead th {\n",
              "        text-align: right;\n",
              "    }\n",
              "</style>\n",
              "<table border=\"1\" class=\"dataframe\">\n",
              "  <thead>\n",
              "    <tr style=\"text-align: right;\">\n",
              "      <th></th>\n",
              "      <th>id</th>\n",
              "      <th>text</th>\n",
              "      <th>author</th>\n",
              "      <th>headline</th>\n",
              "      <th>named_entities_claim</th>\n",
              "      <th>named_entities_article</th>\n",
              "      <th>keywords</th>\n",
              "      <th>source</th>\n",
              "      <th>language</th>\n",
              "      <th>label</th>\n",
              "    </tr>\n",
              "  </thead>\n",
              "  <tbody>\n",
              "    <tr>\n",
              "      <th>9285</th>\n",
              "      <td>http://data.gesis.org/claimskg/claim_review/fa...</td>\n",
              "      <td>Essay by retired Air Force general analyzes th...</td>\n",
              "      <td>Unknown</td>\n",
              "      <td>General Chong Letter</td>\n",
              "      <td>e-mail forwarding,the chain,war on terrorism</td>\n",
              "      <td>war on terrorism</td>\n",
              "      <td>ASP Article</td>\n",
              "      <td>snopes</td>\n",
              "      <td>English</td>\n",
              "      <td>1</td>\n",
              "    </tr>\n",
              "    <tr>\n",
              "      <th>1777</th>\n",
              "      <td>http://data.gesis.org/claimskg/claim_review/81...</td>\n",
              "      <td>The month of August will include five Saturday...</td>\n",
              "      <td>Unknown</td>\n",
              "      <td>‘Money Bags’ Calendar</td>\n",
              "      <td>feng shui,money bag</td>\n",
              "      <td>NaN</td>\n",
              "      <td>Trivia</td>\n",
              "      <td>snopes</td>\n",
              "      <td>English</td>\n",
              "      <td>1</td>\n",
              "    </tr>\n",
              "    <tr>\n",
              "      <th>8655</th>\n",
              "      <td>http://data.gesis.org/claimskg/claim_review/2c...</td>\n",
              "      <td>Oregon State Leaves Donald Trump off Ballots</td>\n",
              "      <td>Unknown</td>\n",
              "      <td>Oregon State Leaves Donald Trump off Ballots-F...</td>\n",
              "      <td>2016 presidential election,Donald Trump,Facebo...</td>\n",
              "      <td>Donald Trump,Oregon</td>\n",
              "      <td>NaN</td>\n",
              "      <td>truthorfiction</td>\n",
              "      <td>English</td>\n",
              "      <td>1</td>\n",
              "    </tr>\n",
              "    <tr>\n",
              "      <th>5988</th>\n",
              "      <td>http://data.gesis.org/claimskg/claim_review/2b...</td>\n",
              "      <td>'The music industry is the biggest export from...</td>\n",
              "      <td>D’Banj</td>\n",
              "      <td>Africa's 'Bono' claims that music is one of Af...</td>\n",
              "      <td>Afrobeat,Akon,Azonto,Bollywood,Center for Stra...</td>\n",
              "      <td>NaN</td>\n",
              "      <td>Ebola,Economy,Foreign Policy,Pop Culture</td>\n",
              "      <td>politifact</td>\n",
              "      <td>English</td>\n",
              "      <td>1</td>\n",
              "    </tr>\n",
              "    <tr>\n",
              "      <th>3334</th>\n",
              "      <td>http://data.gesis.org/claimskg/claim_review/d2...</td>\n",
              "      <td>The Red Cross provided supplies to marchers in...</td>\n",
              "      <td>Unknown</td>\n",
              "      <td>Red Cross Supplies Jena Marchers</td>\n",
              "      <td>American Red Cross,Detroit Free Press,Dr. Mart...</td>\n",
              "      <td>Jena, Louisiana</td>\n",
              "      <td>ASP Article</td>\n",
              "      <td>snopes</td>\n",
              "      <td>English</td>\n",
              "      <td>0</td>\n",
              "    </tr>\n",
              "  </tbody>\n",
              "</table>\n",
              "</div>\n",
              "      <button class=\"colab-df-convert\" onclick=\"convertToInteractive('df-43b9ab58-7249-4d61-b367-47dbf9c9933f')\"\n",
              "              title=\"Convert this dataframe to an interactive table.\"\n",
              "              style=\"display:none;\">\n",
              "        \n",
              "  <svg xmlns=\"http://www.w3.org/2000/svg\" height=\"24px\"viewBox=\"0 0 24 24\"\n",
              "       width=\"24px\">\n",
              "    <path d=\"M0 0h24v24H0V0z\" fill=\"none\"/>\n",
              "    <path d=\"M18.56 5.44l.94 2.06.94-2.06 2.06-.94-2.06-.94-.94-2.06-.94 2.06-2.06.94zm-11 1L8.5 8.5l.94-2.06 2.06-.94-2.06-.94L8.5 2.5l-.94 2.06-2.06.94zm10 10l.94 2.06.94-2.06 2.06-.94-2.06-.94-.94-2.06-.94 2.06-2.06.94z\"/><path d=\"M17.41 7.96l-1.37-1.37c-.4-.4-.92-.59-1.43-.59-.52 0-1.04.2-1.43.59L10.3 9.45l-7.72 7.72c-.78.78-.78 2.05 0 2.83L4 21.41c.39.39.9.59 1.41.59.51 0 1.02-.2 1.41-.59l7.78-7.78 2.81-2.81c.8-.78.8-2.07 0-2.86zM5.41 20L4 18.59l7.72-7.72 1.47 1.35L5.41 20z\"/>\n",
              "  </svg>\n",
              "      </button>\n",
              "      \n",
              "  <style>\n",
              "    .colab-df-container {\n",
              "      display:flex;\n",
              "      flex-wrap:wrap;\n",
              "      gap: 12px;\n",
              "    }\n",
              "\n",
              "    .colab-df-convert {\n",
              "      background-color: #E8F0FE;\n",
              "      border: none;\n",
              "      border-radius: 50%;\n",
              "      cursor: pointer;\n",
              "      display: none;\n",
              "      fill: #1967D2;\n",
              "      height: 32px;\n",
              "      padding: 0 0 0 0;\n",
              "      width: 32px;\n",
              "    }\n",
              "\n",
              "    .colab-df-convert:hover {\n",
              "      background-color: #E2EBFA;\n",
              "      box-shadow: 0px 1px 2px rgba(60, 64, 67, 0.3), 0px 1px 3px 1px rgba(60, 64, 67, 0.15);\n",
              "      fill: #174EA6;\n",
              "    }\n",
              "\n",
              "    [theme=dark] .colab-df-convert {\n",
              "      background-color: #3B4455;\n",
              "      fill: #D2E3FC;\n",
              "    }\n",
              "\n",
              "    [theme=dark] .colab-df-convert:hover {\n",
              "      background-color: #434B5C;\n",
              "      box-shadow: 0px 1px 3px 1px rgba(0, 0, 0, 0.15);\n",
              "      filter: drop-shadow(0px 1px 2px rgba(0, 0, 0, 0.3));\n",
              "      fill: #FFFFFF;\n",
              "    }\n",
              "  </style>\n",
              "\n",
              "      <script>\n",
              "        const buttonEl =\n",
              "          document.querySelector('#df-43b9ab58-7249-4d61-b367-47dbf9c9933f button.colab-df-convert');\n",
              "        buttonEl.style.display =\n",
              "          google.colab.kernel.accessAllowed ? 'block' : 'none';\n",
              "\n",
              "        async function convertToInteractive(key) {\n",
              "          const element = document.querySelector('#df-43b9ab58-7249-4d61-b367-47dbf9c9933f');\n",
              "          const dataTable =\n",
              "            await google.colab.kernel.invokeFunction('convertToInteractive',\n",
              "                                                     [key], {});\n",
              "          if (!dataTable) return;\n",
              "\n",
              "          const docLinkHtml = 'Like what you see? Visit the ' +\n",
              "            '<a target=\"_blank\" href=https://colab.research.google.com/notebooks/data_table.ipynb>data table notebook</a>'\n",
              "            + ' to learn more about interactive tables.';\n",
              "          element.innerHTML = '';\n",
              "          dataTable['output_type'] = 'display_data';\n",
              "          await google.colab.output.renderOutput(dataTable, element);\n",
              "          const docLink = document.createElement('div');\n",
              "          docLink.innerHTML = docLinkHtml;\n",
              "          element.appendChild(docLink);\n",
              "        }\n",
              "      </script>\n",
              "    </div>\n",
              "  </div>\n",
              "  "
            ],
            "text/plain": [
              "                                                     id  ... label\n",
              "9285  http://data.gesis.org/claimskg/claim_review/fa...  ...     1\n",
              "1777  http://data.gesis.org/claimskg/claim_review/81...  ...     1\n",
              "8655  http://data.gesis.org/claimskg/claim_review/2c...  ...     1\n",
              "5988  http://data.gesis.org/claimskg/claim_review/2b...  ...     1\n",
              "3334  http://data.gesis.org/claimskg/claim_review/d2...  ...     0\n",
              "\n",
              "[5 rows x 10 columns]"
            ]
          },
          "metadata": {},
          "execution_count": 9
        }
      ]
    },
    {
      "cell_type": "markdown",
      "source": [
        ""
      ],
      "metadata": {
        "id": "jHyp3betKdhO"
      }
    },
    {
      "cell_type": "code",
      "source": [
        "#knowledge graph creation\n",
        "# naming entities\n",
        "#data['id'] = data.index.values.astype(str)\n",
        "data['id'] =  data.id # \"Claim\" +\n",
        "data['text'] = data.text #\"Text\" + \n",
        "#data['ratingName'] =  data.ratingName #\"RatingName\" \n",
        "data['author'] = data.author #\"Author\" + \n",
        "data['headline'] = data.headline #\"Headline\" +\n",
        "data['named_entities_claim'] = data.named_entities_claim #\"Named_entities_claim\" + \n",
        "data['named_entities_article'] =  data.named_entities_article #\"Named_entities_article\" +\n",
        "data['keywords'] =  data.keywords #\"Keywords\" +\n",
        "data['source'] = data.source #\"Source\" + \n",
        "#data['sourceURL'] =  data.sourceURL #\"SourceURL\" +\n",
        "#data['link'] =  data.link #\"Link\" +\n",
        "data['language'] = data.language # \"Language\" +\n",
        "data['label'] = data.label\n"
      ],
      "metadata": {
        "id": "IJiyRVLiBJ_2"
      },
      "execution_count": 10,
      "outputs": []
    },
    {
      "cell_type": "code",
      "source": [
        "triples = []\n",
        "for _, row in data.iterrows():\n",
        "    # Home and away information\n",
        "    text = (row['id'], \"hasText\", row['text'])\n",
        "   # rating = (row['id'], \"isRated\", row['ratingName'])\n",
        "    author = (row['id'], \"isWrittenBy\", row['author'])\n",
        "    headline = (row['id'], \"hasHeadline\", row['headline'])\n",
        "    named_entities_claim = (row['id'], \"referredEntities\", row[\"named_entities_claim\"])\n",
        "    keywords = (row['id'], \"containKeywords\", row['keywords'])\n",
        "    language = (row['id'], \"isWrittenIn\", row['language'])\n",
        "    source = (row['id'], \"isLocated\", row['source'])\n",
        "   # sourceURL = (row['id'], \"URL\", row['sourceURL'])\n",
        "    label = (row['id'], \"isLabelled\", row['label'])\n",
        "\n",
        "\n",
        "\n",
        "    triples.extend((text, author, headline, named_entities_claim, keywords, language, source, label))\n"
      ],
      "metadata": {
        "id": "6lL8WR-yD_X9"
      },
      "execution_count": 11,
      "outputs": []
    },
    {
      "cell_type": "code",
      "source": [
        "triples_df = pd.DataFrame(triples, columns=[\"subject\", \"predicate\", \"object\"])\n",
        "triples_df.head()"
      ],
      "metadata": {
        "colab": {
          "base_uri": "https://localhost:8080/",
          "height": 206
        },
        "id": "7vVuvgqtLQjz",
        "outputId": "53f39035-12cb-4577-a8fc-79ad1bd8dd8b"
      },
      "execution_count": 12,
      "outputs": [
        {
          "output_type": "execute_result",
          "data": {
            "text/html": [
              "\n",
              "  <div id=\"df-560e50b2-8299-4a8f-93fc-10cf01adc952\">\n",
              "    <div class=\"colab-df-container\">\n",
              "      <div>\n",
              "<style scoped>\n",
              "    .dataframe tbody tr th:only-of-type {\n",
              "        vertical-align: middle;\n",
              "    }\n",
              "\n",
              "    .dataframe tbody tr th {\n",
              "        vertical-align: top;\n",
              "    }\n",
              "\n",
              "    .dataframe thead th {\n",
              "        text-align: right;\n",
              "    }\n",
              "</style>\n",
              "<table border=\"1\" class=\"dataframe\">\n",
              "  <thead>\n",
              "    <tr style=\"text-align: right;\">\n",
              "      <th></th>\n",
              "      <th>subject</th>\n",
              "      <th>predicate</th>\n",
              "      <th>object</th>\n",
              "    </tr>\n",
              "  </thead>\n",
              "  <tbody>\n",
              "    <tr>\n",
              "      <th>0</th>\n",
              "      <td>http://data.gesis.org/claimskg/claim_review/fa...</td>\n",
              "      <td>hasText</td>\n",
              "      <td>Essay by retired Air Force general analyzes th...</td>\n",
              "    </tr>\n",
              "    <tr>\n",
              "      <th>1</th>\n",
              "      <td>http://data.gesis.org/claimskg/claim_review/fa...</td>\n",
              "      <td>isWrittenBy</td>\n",
              "      <td>Unknown</td>\n",
              "    </tr>\n",
              "    <tr>\n",
              "      <th>2</th>\n",
              "      <td>http://data.gesis.org/claimskg/claim_review/fa...</td>\n",
              "      <td>hasHeadline</td>\n",
              "      <td>General Chong Letter</td>\n",
              "    </tr>\n",
              "    <tr>\n",
              "      <th>3</th>\n",
              "      <td>http://data.gesis.org/claimskg/claim_review/fa...</td>\n",
              "      <td>referredEntities</td>\n",
              "      <td>e-mail forwarding,the chain,war on terrorism</td>\n",
              "    </tr>\n",
              "    <tr>\n",
              "      <th>4</th>\n",
              "      <td>http://data.gesis.org/claimskg/claim_review/fa...</td>\n",
              "      <td>containKeywords</td>\n",
              "      <td>ASP Article</td>\n",
              "    </tr>\n",
              "  </tbody>\n",
              "</table>\n",
              "</div>\n",
              "      <button class=\"colab-df-convert\" onclick=\"convertToInteractive('df-560e50b2-8299-4a8f-93fc-10cf01adc952')\"\n",
              "              title=\"Convert this dataframe to an interactive table.\"\n",
              "              style=\"display:none;\">\n",
              "        \n",
              "  <svg xmlns=\"http://www.w3.org/2000/svg\" height=\"24px\"viewBox=\"0 0 24 24\"\n",
              "       width=\"24px\">\n",
              "    <path d=\"M0 0h24v24H0V0z\" fill=\"none\"/>\n",
              "    <path d=\"M18.56 5.44l.94 2.06.94-2.06 2.06-.94-2.06-.94-.94-2.06-.94 2.06-2.06.94zm-11 1L8.5 8.5l.94-2.06 2.06-.94-2.06-.94L8.5 2.5l-.94 2.06-2.06.94zm10 10l.94 2.06.94-2.06 2.06-.94-2.06-.94-.94-2.06-.94 2.06-2.06.94z\"/><path d=\"M17.41 7.96l-1.37-1.37c-.4-.4-.92-.59-1.43-.59-.52 0-1.04.2-1.43.59L10.3 9.45l-7.72 7.72c-.78.78-.78 2.05 0 2.83L4 21.41c.39.39.9.59 1.41.59.51 0 1.02-.2 1.41-.59l7.78-7.78 2.81-2.81c.8-.78.8-2.07 0-2.86zM5.41 20L4 18.59l7.72-7.72 1.47 1.35L5.41 20z\"/>\n",
              "  </svg>\n",
              "      </button>\n",
              "      \n",
              "  <style>\n",
              "    .colab-df-container {\n",
              "      display:flex;\n",
              "      flex-wrap:wrap;\n",
              "      gap: 12px;\n",
              "    }\n",
              "\n",
              "    .colab-df-convert {\n",
              "      background-color: #E8F0FE;\n",
              "      border: none;\n",
              "      border-radius: 50%;\n",
              "      cursor: pointer;\n",
              "      display: none;\n",
              "      fill: #1967D2;\n",
              "      height: 32px;\n",
              "      padding: 0 0 0 0;\n",
              "      width: 32px;\n",
              "    }\n",
              "\n",
              "    .colab-df-convert:hover {\n",
              "      background-color: #E2EBFA;\n",
              "      box-shadow: 0px 1px 2px rgba(60, 64, 67, 0.3), 0px 1px 3px 1px rgba(60, 64, 67, 0.15);\n",
              "      fill: #174EA6;\n",
              "    }\n",
              "\n",
              "    [theme=dark] .colab-df-convert {\n",
              "      background-color: #3B4455;\n",
              "      fill: #D2E3FC;\n",
              "    }\n",
              "\n",
              "    [theme=dark] .colab-df-convert:hover {\n",
              "      background-color: #434B5C;\n",
              "      box-shadow: 0px 1px 3px 1px rgba(0, 0, 0, 0.15);\n",
              "      filter: drop-shadow(0px 1px 2px rgba(0, 0, 0, 0.3));\n",
              "      fill: #FFFFFF;\n",
              "    }\n",
              "  </style>\n",
              "\n",
              "      <script>\n",
              "        const buttonEl =\n",
              "          document.querySelector('#df-560e50b2-8299-4a8f-93fc-10cf01adc952 button.colab-df-convert');\n",
              "        buttonEl.style.display =\n",
              "          google.colab.kernel.accessAllowed ? 'block' : 'none';\n",
              "\n",
              "        async function convertToInteractive(key) {\n",
              "          const element = document.querySelector('#df-560e50b2-8299-4a8f-93fc-10cf01adc952');\n",
              "          const dataTable =\n",
              "            await google.colab.kernel.invokeFunction('convertToInteractive',\n",
              "                                                     [key], {});\n",
              "          if (!dataTable) return;\n",
              "\n",
              "          const docLinkHtml = 'Like what you see? Visit the ' +\n",
              "            '<a target=\"_blank\" href=https://colab.research.google.com/notebooks/data_table.ipynb>data table notebook</a>'\n",
              "            + ' to learn more about interactive tables.';\n",
              "          element.innerHTML = '';\n",
              "          dataTable['output_type'] = 'display_data';\n",
              "          await google.colab.output.renderOutput(dataTable, element);\n",
              "          const docLink = document.createElement('div');\n",
              "          docLink.innerHTML = docLinkHtml;\n",
              "          element.appendChild(docLink);\n",
              "        }\n",
              "      </script>\n",
              "    </div>\n",
              "  </div>\n",
              "  "
            ],
            "text/plain": [
              "                                             subject  ...                                             object\n",
              "0  http://data.gesis.org/claimskg/claim_review/fa...  ...  Essay by retired Air Force general analyzes th...\n",
              "1  http://data.gesis.org/claimskg/claim_review/fa...  ...                                            Unknown\n",
              "2  http://data.gesis.org/claimskg/claim_review/fa...  ...                               General Chong Letter\n",
              "3  http://data.gesis.org/claimskg/claim_review/fa...  ...       e-mail forwarding,the chain,war on terrorism\n",
              "4  http://data.gesis.org/claimskg/claim_review/fa...  ...                                        ASP Article\n",
              "\n",
              "[5 rows x 3 columns]"
            ]
          },
          "metadata": {},
          "execution_count": 12
        }
      ]
    },
    {
      "cell_type": "code",
      "source": [
        "t_size = int(len(triples) * 0.20)\n",
        "print(t_size)"
      ],
      "metadata": {
        "colab": {
          "base_uri": "https://localhost:8080/"
        },
        "id": "tpyvYgzEIQls",
        "outputId": "5baa1700-b54e-4887-98ae-89e2614ccd77"
      },
      "execution_count": 13,
      "outputs": [
        {
          "output_type": "stream",
          "name": "stdout",
          "text": [
            "23126\n"
          ]
        }
      ]
    },
    {
      "cell_type": "code",
      "source": [
        "from ampligraph.evaluation import train_test_split_no_unseen \n",
        " \n",
        "''' \n",
        "# get the validation set of size 500\n",
        "test_train, X_valid = train_test_split_no_unseen(np.array(triples), 500, seed=0)\n",
        "\n",
        "# get the test set of size 1000 from the remaining triples\n",
        "X_train, X_test = train_test_split_no_unseen(test_train, test_size=10000, seed=0)'''\n",
        "\n",
        "#X_train, X_test = train_test_split_no_unseen(np.array(triples), test_size=t_size)\n",
        "\n",
        "X_train, X_test = train_test_split_no_unseen(np.array(triples), test_size=10000)\n",
        "\n"
      ],
      "metadata": {
        "id": "aTOAURdkLc4j"
      },
      "execution_count": 15,
      "outputs": []
    },
    {
      "cell_type": "code",
      "source": [
        "print('Train set size: ', X_train.shape)\n",
        "#print('Valid set size: ', X_valid.shape)\n",
        "print('Test set size: ', X_test.shape)"
      ],
      "metadata": {
        "colab": {
          "base_uri": "https://localhost:8080/"
        },
        "id": "iae5PLLELvNd",
        "outputId": "308fdb7a-dd32-4df9-ba3d-b563af43793a"
      },
      "execution_count": 16,
      "outputs": [
        {
          "output_type": "stream",
          "name": "stdout",
          "text": [
            "Train set size:  (105632, 3)\n",
            "Test set size:  (10000, 3)\n"
          ]
        }
      ]
    },
    {
      "cell_type": "code",
      "source": [
        "#X = np.concatenate([X_train, X_valid])"
      ],
      "metadata": {
        "id": "UZTl8ejZViCZ"
      },
      "execution_count": null,
      "outputs": []
    },
    {
      "cell_type": "code",
      "source": [
        "from ampligraph.latent_features import TransE\n",
        "\n",
        "model = TransE(k=150,                                                             # embedding size\n",
        "               epochs=100,                                                        # Num of epochs\n",
        "               batches_count= 10,                                                 # Number of batches \n",
        "               eta=1,                                                             # number of corruptions to generate during training\n",
        "               loss='pairwise', loss_params={'margin': 1},                        # loss type and it's hyperparameters         \n",
        "               initializer='xavier', initializer_params={'uniform': False},       # initializer type and it's hyperparameters\n",
        "               regularizer='LP', regularizer_params= {'lambda': 0.001, 'p': 3},   # regularizer along with its hyperparameters\n",
        "               optimizer= 'adam', optimizer_params= {'lr': 0.001},                # optimizer to use along with its hyperparameters\n",
        "               seed= 0, verbose=True)\n",
        "tf.logging.set_verbosity(tf.logging.ERROR)\n",
        "model.fit(X_train)\n",
        "# model.fit(X)"
      ],
      "metadata": {
        "colab": {
          "base_uri": "https://localhost:8080/"
        },
        "id": "SJ86PVqAMAww",
        "outputId": "b0231b76-62c4-42f5-cafe-19ba5c9cac23"
      },
      "execution_count": 17,
      "outputs": [
        {
          "output_type": "stream",
          "name": "stderr",
          "text": [
            "Average TransE Loss:   0.030257: 100%|██████████| 100/100 [03:28<00:00,  2.08s/epoch]\n"
          ]
        }
      ]
    },
    {
      "cell_type": "markdown",
      "source": [
        "# **EVALUATION METRICS**\n",
        "1. Τo evaluate accuracy, test triples are considered positive and negative triples are derived from them. The evaluation protocol is thus impacted by the generation of negative triples, which remains to be analyzed.\n",
        "\n",
        "2.  While evaluating (as described earlier), we generate all the corruptions (using all the unique entities in our dataset) per test triple, score and rank them. While doing so, we are not filtering the true positives - in other words, some of the corruptions may not really be corruptions and may be ground truth triples observed during training.  Training triples usually get a high score as they are \"observed\" by the model. Hence a test triple would get a lower rank if such triples appear in corruptions. To filter out the True Positives (after step b. and e.), one can pass all  the True Positive triples to filter_triples parameter of the evaluate_performance API. This will perform a \"filtered\" evaluation and return the \"filtered\" ranks adjusted by removing the True Positives from the corruptions."
      ],
      "metadata": {
        "id": "0QRiTABpqTTD"
      }
    },
    {
      "cell_type": "code",
      "source": [
        "'''# per triple metrics\n",
        "#This is a metric that is computed for each test set triple:\n",
        "#score: This is the value assigned to a triple, by the model, by applying the scoring function.\n",
        "#Let's look at how we can get the score for a triple of interest and how to interpret it.\n",
        "\n",
        "test_triple = ['http://data.gesis.org/claimskg/claim_review/1a3dca4b-efcc-53cf-ad0a-28caca6395b9', \n",
        "               'hasheadline', \n",
        "               \"Donald Trump in Florida laments 'what's happening last night in Sweden.' But nothing happened\"]\n",
        "\n",
        "triple_score = model.predict(test_triple)\n",
        "\n",
        "print('Triple of interest:\\n', test_triple)\n",
        "print('Triple Score:\\n', triple_score)'''"
      ],
      "metadata": {
        "colab": {
          "base_uri": "https://localhost:8080/",
          "height": 105
        },
        "id": "uoKrPGrOq7Qt",
        "outputId": "a32e26ae-4e56-4fbc-b162-874032aedcdd"
      },
      "execution_count": null,
      "outputs": [
        {
          "output_type": "execute_result",
          "data": {
            "application/vnd.google.colaboratory.intrinsic+json": {
              "type": "string"
            },
            "text/plain": [
              "'# per triple metrics\\n#This is a metric that is computed for each test set triple:\\n#score: This is the value assigned to a triple, by the model, by applying the scoring function.\\n#Let\\'s look at how we can get the score for a triple of interest and how to interpret it.\\n\\ntest_triple = [\\'http://data.gesis.org/claimskg/claim_review/1a3dca4b-efcc-53cf-ad0a-28caca6395b9\\', \\n               \\'hasheadline\\', \\n               \"Donald Trump in Florida laments \\'what\\'s happening last night in Sweden.\\' But nothing happened\"]\\n\\ntriple_score = model.predict(test_triple)\\n\\nprint(\\'Triple of interest:\\n\\', test_triple)\\nprint(\\'Triple Score:\\n\\', triple_score)'"
            ]
          },
          "metadata": {},
          "execution_count": 20
        }
      ]
    },
    {
      "cell_type": "code",
      "source": [
        "# Evaluating knowledge embeddings\n",
        "\n",
        "\n",
        "from ampligraph.evaluation import evaluate_performance \n",
        "\n",
        "print('Size of X_test:', X_test.shape)\n",
        "\n",
        "# Append the Train, Valid and Test set to the X_filter.\n",
        "''' The model has not \"observed\" them during training. We do so because, we would like\n",
        "   to evaluate a test triple against it's corruptions and not against known facts. \n",
        "   If we know that the Validation triples and Test triples are facts (and not queries),\n",
        "   we need to filter these triples out of the generated corruptions. This is the standard \n",
        "   procedure that is used to compute the metrics to compete on the leadership board.'''\n",
        "\n",
        "X_filter = np.concatenate([X_train, X_valid, X_test], 0)\n",
        "\n",
        "ranks = evaluate_performance(X_test, \n",
        "                             model=model,\n",
        "                             filter_triples=X_filter)\n",
        "\n",
        "print(ranks)"
      ],
      "metadata": {
        "colab": {
          "base_uri": "https://localhost:8080/"
        },
        "id": "N3lX2GDQLxuY",
        "outputId": "dbf68160-ff0c-4ba7-b97a-804b0fc0e20b"
      },
      "execution_count": null,
      "outputs": [
        {
          "output_type": "stream",
          "name": "stdout",
          "text": [
            "Size of X_test: (10000, 3)\n",
            "WARNING - You are attempting to use 66055 distinct entities to generate synthetic negatives in the evaluation\n",
            "    protocol. This may be unnecessary and will lead to a 'harder' task. Besides, it will lead to a much slower\n",
            "    evaluation procedure. We recommended to set the 'corruption_entities' argument to a reasonably sized set\n",
            "    of entities. The size of corruption_entities depends on your domain-specific task.\n"
          ]
        },
        {
          "output_type": "stream",
          "name": "stderr",
          "text": [
            "/usr/local/lib/python3.7/dist-packages/ampligraph/evaluation/protocol.py:952: UserWarning: You are attempting to use 66055 distinct entities to generate synthetic negatives in the evaluation\n",
            "    protocol. This may be unnecessary and will lead to a 'harder' task. Besides, it will lead to a much slower\n",
            "    evaluation procedure. We recommended to set the 'corruption_entities' argument to a reasonably sized set\n",
            "    of entities. The size of corruption_entities depends on your domain-specific task.\n",
            "  warnings.warn(warn_msg % ent_for_corruption_size)\n",
            "100%|██████████| 10000/10000 [24:04<00:00,  6.92it/s]\n"
          ]
        },
        {
          "output_type": "stream",
          "name": "stdout",
          "text": [
            "[[ 1332     1]\n",
            " [   80     1]\n",
            " [  267     1]\n",
            " ...\n",
            " [  292     1]\n",
            " [12203   843]\n",
            " [ 2691     1]]\n"
          ]
        }
      ]
    },
    {
      "cell_type": "code",
      "source": [
        "from ampligraph.evaluation import mr_score, mrr_score, hits_at_n_score\n",
        "\n",
        "mr = mr_score(ranks)\n",
        "mrr = mrr_score(ranks)\n",
        "\n",
        "print(\"MRR: %.2f\" % (mrr))\n",
        "print(\"MR: %.2f\" % (mr))\n",
        "\n",
        "hits_10 = hits_at_n_score(ranks, n=10)\n",
        "print(\"Hits@10: %.2f\" % (hits_10))\n",
        "hits_3 = hits_at_n_score(ranks, n=3)\n",
        "print(\"Hits@3: %.2f\" % (hits_3))\n",
        "hits_1 = hits_at_n_score(ranks, n=1)\n",
        "print(\"Hits@1: %.2f\" % (hits_1))"
      ],
      "metadata": {
        "colab": {
          "base_uri": "https://localhost:8080/"
        },
        "id": "hJEs7pCsQ2L3",
        "outputId": "f30652e7-d3f3-4ae1-a88a-c520a3c8144b"
      },
      "execution_count": null,
      "outputs": [
        {
          "output_type": "stream",
          "name": "stdout",
          "text": [
            "MRR: 0.35\n",
            "MR: 2277.69\n",
            "Hits@10: 0.42\n",
            "Hits@3: 0.37\n",
            "Hits@1: 0.30\n"
          ]
        }
      ]
    },
    {
      "cell_type": "code",
      "source": [
        "yt = pd.DataFrame(X_train, columns=['subject', 'predicate', 'object'])\n",
        "X2_train = X_train\n",
        "y2t = yt.loc[yt['predicate'] == 'isLabelled']\n",
        "y2_train = y2t['object']\n",
        "y2_train.head()\n",
        "len(y2_train)\n",
        "\n",
        "X_t = pd.DataFrame(X_train, columns=['subject', 'predicate', 'object'])\n",
        "X_t.head()\n",
        "X2_train = X_t['subject']\n",
        "type(X2_train)\n",
        "\n",
        "yte = pd.DataFrame(X_test, columns=['subject', 'predicate', 'object'])\n",
        "X2_test = X_test\n",
        "y2te = yte.loc[yte['predicate'] == 'isLabelled']\n",
        "y2_test= y2te['object']\n",
        "len(y2_test)\n",
        "\n",
        "X_te = pd.DataFrame(X_test, columns=['subject', 'predicate', 'object'])\n",
        "X_te.head()\n",
        "X2_test = X_te['subject']\n",
        "len(X2_test)\n",
        "\n",
        "print('Train set TransE:', len(X_train))\n",
        "print('Train set X for XGB classifier:', len(X2_train))\n",
        "print('Train set y for XGB classifier:', len(y2_train))\n",
        "\n",
        "print('******')\n",
        "\n",
        "print('Test set TransE:', len(X_test))\n",
        "print('Test set X for XGB classifier:', len(X2_test))\n",
        "print('Test set y for XGB classifier:', len(y2_test))"
      ],
      "metadata": {
        "id": "rvoQqnuONuNv"
      },
      "execution_count": null,
      "outputs": []
    },
    {
      "cell_type": "code",
      "source": [
        "from sklearn.model_selection import train_test_split\n",
        "\n",
        "y = data['label']\n",
        "X1_train, X1_test, y1_train, y1_test = train_test_split(data['id'], y, test_size=0.20, random_state=42)\n",
        "\n",
        "print('X1_train:', len(X1_train))\n",
        "print('y1_train:', len(y1_train))\n",
        "print('****')\n",
        "print('X1_test:', len(X1_test))\n",
        "print('y1_train:', len(y1_test))"
      ],
      "metadata": {
        "id": "nMNbvs_VyKKy",
        "colab": {
          "base_uri": "https://localhost:8080/"
        },
        "outputId": "7e6a76cf-8066-4265-d1cd-6e3ac000d357"
      },
      "execution_count": 18,
      "outputs": [
        {
          "output_type": "stream",
          "name": "stdout",
          "text": [
            "X1_train: 11563\n",
            "y1_train: 11563\n",
            "****\n",
            "X1_test: 2891\n",
            "y1_train: 2891\n"
          ]
        }
      ]
    },
    {
      "cell_type": "code",
      "source": [
        "data.label.value_counts(normalize=True)"
      ],
      "metadata": {
        "colab": {
          "base_uri": "https://localhost:8080/"
        },
        "id": "XtwN5xHYUMBm",
        "outputId": "c5615d4d-4418-48bb-f3d0-e2efc87b206d"
      },
      "execution_count": 19,
      "outputs": [
        {
          "output_type": "execute_result",
          "data": {
            "text/plain": [
              "1    0.691919\n",
              "0    0.308081\n",
              "Name: label, dtype: float64"
            ]
          },
          "metadata": {},
          "execution_count": 19
        }
      ]
    },
    {
      "cell_type": "code",
      "source": [
        "X_train_clf = model.get_embeddings(X1_train)\n",
        "X_test_clf = model.get_embeddings(X1_test)"
      ],
      "metadata": {
        "id": "3ZDCwNLwQO8u"
      },
      "execution_count": 20,
      "outputs": []
    },
    {
      "cell_type": "code",
      "source": [
        "from xgboost import XGBClassifier\n",
        "\n",
        "clf_model = XGBClassifier(n_estimators=500, max_depth=5, binary=\"logistic\")\n",
        "\n",
        "clf_model.fit(X_train_clf,y1_train)"
      ],
      "metadata": {
        "colab": {
          "base_uri": "https://localhost:8080/"
        },
        "id": "FM2gF7N29Rjj",
        "outputId": "b829172c-2699-42a1-f98a-92d3df842f54"
      },
      "execution_count": 21,
      "outputs": [
        {
          "output_type": "execute_result",
          "data": {
            "text/plain": [
              "XGBClassifier(binary='logistic', max_depth=5, n_estimators=500)"
            ]
          },
          "metadata": {},
          "execution_count": 21
        }
      ]
    },
    {
      "cell_type": "code",
      "source": [
        "from sklearn.metrics import classification_report, accuracy_score\n",
        "\n",
        "print(classification_report(y1_test,  clf_model.predict(X_test_clf)))"
      ],
      "metadata": {
        "colab": {
          "base_uri": "https://localhost:8080/"
        },
        "id": "GYlWhGs5bGlF",
        "outputId": "34586b64-cd52-48db-9389-2131e9d15694"
      },
      "execution_count": 22,
      "outputs": [
        {
          "output_type": "stream",
          "name": "stdout",
          "text": [
            "              precision    recall  f1-score   support\n",
            "\n",
            "           0       0.92      0.86      0.89       907\n",
            "           1       0.94      0.97      0.95      1984\n",
            "\n",
            "    accuracy                           0.93      2891\n",
            "   macro avg       0.93      0.91      0.92      2891\n",
            "weighted avg       0.93      0.93      0.93      2891\n",
            "\n"
          ]
        }
      ]
    },
    {
      "cell_type": "markdown",
      "source": [
        ""
      ],
      "metadata": {
        "id": "cPTbKuEtNeQP"
      }
    },
    {
      "cell_type": "markdown",
      "source": [
        "**20/01/20222**: With columns ratingName, sourceURL, link --> Accuracy 88%\n",
        "\n",
        "\n",
        "**26/01/2022**: \n",
        "1.   Drop the columns ratingName, sourceURL, link. And column label --> Accuracy 94%\n",
        "2.   Train_set without column label in TRANSE model --> Accuracy 68%\n",
        "\n"
      ],
      "metadata": {
        "id": "Vk7XBKMSefnQ"
      }
    },
    {
      "cell_type": "code",
      "source": [
        "from ampligraph.latent_features import ComplEx\n",
        "\n",
        "model1 = ComplEx(batches_count=50,\n",
        "                epochs=100,\n",
        "                k=100,\n",
        "                eta=20,\n",
        "                optimizer='adam', \n",
        "                optimizer_params={'lr':1e-4},\n",
        "                loss='multiclass_nll',\n",
        "                regularizer='LP', \n",
        "                regularizer_params={'p':3, 'lambda':1e-5}, \n",
        "                seed=0, \n",
        "                verbose=True)\n",
        "\n",
        "import tensorflow as tf\n",
        "tf.logging.set_verbosity(tf.logging.ERROR)\n",
        "\n",
        "model1.fit(X_train)"
      ],
      "metadata": {
        "colab": {
          "base_uri": "https://localhost:8080/"
        },
        "id": "ixeFsFt-bzPE",
        "outputId": "fa32a792-54a6-43b2-f3ed-ae1b6651fcbe"
      },
      "execution_count": 23,
      "outputs": [
        {
          "output_type": "stream",
          "name": "stderr",
          "text": [
            "Average ComplEx Loss:   1.269061: 100%|██████████| 100/100 [39:36<00:00, 23.76s/epoch]\n"
          ]
        }
      ]
    },
    {
      "cell_type": "code",
      "source": [
        "X_train_clf = model1.get_embeddings(X1_train)\n",
        "X_test_clf = model1.get_embeddings(X1_test)"
      ],
      "metadata": {
        "id": "5goEF-wKkAcw"
      },
      "execution_count": 24,
      "outputs": []
    },
    {
      "cell_type": "code",
      "source": [
        "from xgboost import XGBClassifier\n",
        "\n",
        "clf_model = XGBClassifier(n_estimators=500, max_depth=5, binary=\"logistic\")\n",
        "\n",
        "clf_model.fit(X_train_clf,y1_train)"
      ],
      "metadata": {
        "colab": {
          "base_uri": "https://localhost:8080/"
        },
        "id": "BxNFdJ3Bj7gt",
        "outputId": "8c2eba97-aac4-40b7-e626-797a9fab4830"
      },
      "execution_count": 25,
      "outputs": [
        {
          "output_type": "execute_result",
          "data": {
            "text/plain": [
              "XGBClassifier(binary='logistic', max_depth=5, n_estimators=500)"
            ]
          },
          "metadata": {},
          "execution_count": 25
        }
      ]
    },
    {
      "cell_type": "code",
      "source": [
        "from sklearn.metrics import classification_report, accuracy_score\n",
        "\n",
        "print(classification_report(y1_test,  clf_model.predict(X_test_clf)))"
      ],
      "metadata": {
        "colab": {
          "base_uri": "https://localhost:8080/"
        },
        "id": "H-KFd6tUknhR",
        "outputId": "d1e12572-29d5-4bb4-8070-8f92eb24c094"
      },
      "execution_count": 26,
      "outputs": [
        {
          "output_type": "stream",
          "name": "stdout",
          "text": [
            "              precision    recall  f1-score   support\n",
            "\n",
            "           0       0.94      0.88      0.91       907\n",
            "           1       0.95      0.98      0.96      1984\n",
            "\n",
            "    accuracy                           0.95      2891\n",
            "   macro avg       0.94      0.93      0.94      2891\n",
            "weighted avg       0.95      0.95      0.94      2891\n",
            "\n"
          ]
        }
      ]
    },
    {
      "cell_type": "code",
      "source": [
        "#Import required module\n",
        "from sklearn.decomposition import PCA\n",
        "from sklearn.cluster import KMeans\n",
        "import matplotlib.pyplot as plt\n",
        " \n",
        "# Create a dictionary with the embeddings of all claims\n",
        "\n",
        "claims = data['id']\n",
        "claims_embeddings = dict(zip(claims, model.get_embeddings(claims)))\n",
        "\n",
        "embeddings_2d = PCA(n_components=2).fit_transform(np.array([i for i in claims_embeddings.values()]))\n",
        "#Initialize the class object\n",
        "kmeans = KMeans(n_clusters= 2)\n",
        " \n",
        "#predict the labels of clusters.\n",
        "label = kmeans.fit_predict(embeddings_2d)\n",
        " \n",
        "#print(label)\n",
        "\n",
        " \n",
        "#filter rows of original data\n",
        "filtered_label0 = embeddings_2d[label== 0] \n",
        "filtered_label1 = embeddings_2d[label == 1]\n",
        " \n",
        "#plotting the results\n",
        "plt.scatter(filtered_label0[:,0] , filtered_label0[:,1] , color = 'green')\n",
        "plt.scatter(filtered_label1[:,0] , filtered_label1[:,1] , color = 'yellow')\n",
        "plt.show()"
      ],
      "metadata": {
        "colab": {
          "base_uri": "https://localhost:8080/",
          "height": 265
        },
        "id": "MF-njqJGsclD",
        "outputId": "847ef29f-c7a2-4dbe-8939-b329171e5b34"
      },
      "execution_count": null,
      "outputs": [
        {
          "output_type": "display_data",
          "data": {
            "image/png": "[encoded data removed]",
            "text/plain": [
              "<Figure size 432x288 with 1 Axes>"
            ]
          },
          "metadata": {
            "needs_background": "light"
          }
        }
      ]
    }
  ]
}